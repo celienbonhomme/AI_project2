{
 "cells": [
  {
   "cell_type": "markdown",
   "metadata": {},
   "source": [
    "# Extract Data"
   ]
  },
  {
   "cell_type": "code",
   "execution_count": 1,
   "metadata": {},
   "outputs": [
    {
     "name": "stderr",
     "output_type": "stream",
     "text": [
      "/tmp/ipykernel_12093/130720007.py:2: DeprecationWarning: \n",
      "Pyarrow will become a required dependency of pandas in the next major release of pandas (pandas 3.0),\n",
      "(to allow more performant data types, such as the Arrow string type, and better interoperability with other libraries)\n",
      "but was not found to be installed on your system.\n",
      "If this would cause problems for you,\n",
      "please provide us feedback at https://github.com/pandas-dev/pandas/issues/54466\n",
      "        \n",
      "  import pandas as pd\n"
     ]
    }
   ],
   "source": [
    "import json\n",
    "import pandas as pd\n",
    "\n",
    "with open('../data/concatenated_data.txt', 'r', encoding='latin-1') as file:\n",
    "    lines = file.readlines()\n",
    "\n",
    "latitudes = []\n",
    "longitudes = []\n",
    "altitudes = []\n",
    "\n",
    "for idx, line in enumerate(lines):\n",
    "    try:\n",
    "        data = json.loads(line)\n",
    "        if not isinstance(data, dict):\n",
    "            continue\n",
    "    except Exception as e:\n",
    "        continue\n",
    "\n",
    "    if 'Location' in data:\n",
    "        data_location = data['Location']\n",
    "        latitudes.append(data_location['Latitude'])\n",
    "        longitudes.append(data_location['Longtitude'])\n",
    "        altitudes.append(data_location['Altitude'])\n",
    "\n",
    "df_locations = pd.DataFrame({\"Latitude\": latitudes, \"Longitude\": longitudes, \"Altitude\": altitudes})\n",
    "\n",
    "df_locations.to_csv(\"../data/locations.csv\", index=False)"
   ]
  },
  {
   "cell_type": "code",
   "execution_count": 2,
   "metadata": {},
   "outputs": [],
   "source": [
    "df_locations = pd.read_csv(\"../data/locations.csv\")"
   ]
  }
 ],
 "metadata": {
  "kernelspec": {
   "display_name": "ml_venv",
   "language": "python",
   "name": "python3"
  },
  "language_info": {
   "codemirror_mode": {
    "name": "ipython",
    "version": 3
   },
   "file_extension": ".py",
   "mimetype": "text/x-python",
   "name": "python",
   "nbconvert_exporter": "python",
   "pygments_lexer": "ipython3",
   "version": "3.9.18"
  }
 },
 "nbformat": 4,
 "nbformat_minor": 2
}
